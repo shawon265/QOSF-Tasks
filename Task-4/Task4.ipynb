{
 "cells": [
  {
   "cell_type": "code",
   "execution_count": 2,
   "metadata": {},
   "outputs": [
    {
     "name": "stderr",
     "output_type": "stream",
     "text": [
      "/opt/conda/lib/python3.7/site-packages/qiskit/providers/ibmq/ibmqfactory.py:192: UserWarning: Timestamps in IBMQ backend properties, jobs, and job results are all now in local time instead of UTC.\n",
      "  warnings.warn('Timestamps in IBMQ backend properties, jobs, and job results '\n"
     ]
    }
   ],
   "source": [
    "%matplotlib inline\n",
    "# Importing standard Qiskit libraries and configuring account\n",
    "from qiskit import QuantumCircuit, execute, Aer, IBMQ\n",
    "from qiskit.compiler import transpile, assemble\n",
    "from qiskit.tools.jupyter import *\n",
    "from qiskit.visualization import *\n",
    "# Loading your IBM Q account(s)\n",
    "provider = IBMQ.load_account()"
   ]
  },
  {
   "cell_type": "code",
   "execution_count": 3,
   "metadata": {},
   "outputs": [],
   "source": [
    "import numpy as np\n",
    "from qiskit import BasicAer\n",
    "from qiskit.aqua.components.optimizers import COBYLA"
   ]
  },
  {
   "cell_type": "code",
   "execution_count": 4,
   "metadata": {},
   "outputs": [
    {
     "name": "stdout",
     "output_type": "stream",
     "text": [
      "all eigenvalues: [ 1.+0.j -1.+0.j  1.+0.j  1.+0.j]\n",
      "actual min eigenvalue: -0.9999999999999999\n",
      "actual min eigenvector: \n",
      "[[0.        +0.j]\n",
      " [0.70710678+0.j]\n",
      " [0.70710678+0.j]\n",
      " [0.        +0.j]]\n"
     ]
    }
   ],
   "source": [
    "# given hamiltonian\n",
    "H = np.array([\n",
    "    [1, 0, 0, 0],\n",
    "    [0, 0,-1, 0],\n",
    "    [0,-1, 0, 0],\n",
    "    [0, 0, 0, 1]\n",
    "], dtype=np.complex128)\n",
    "# ground truths\n",
    "eigvals,eigvects = np.linalg.eig(H)\n",
    "target_eigval = min(eigvals).real\n",
    "target_eigvect = eigvects[:,eigvals == min(eigvals)]\n",
    "print(f'all eigenvalues: {eigvals}')\n",
    "print(f'actual min eigenvalue: {target_eigval}')\n",
    "print('actual min eigenvector: ')\n",
    "print(eigvects[:,eigvals == min(eigvals)])"
   ]
  },
  {
   "cell_type": "code",
   "execution_count": 5,
   "metadata": {},
   "outputs": [
    {
     "data": {
      "text/plain": [
       "{'II': 0.5, 'XX': -0.5, 'YY': -0.5, 'ZZ': 0.5}"
      ]
     },
     "execution_count": 5,
     "metadata": {},
     "output_type": "execute_result"
    }
   ],
   "source": [
    "# pauli decomposition for 2x2 matrix\n",
    "def pauli_decomp(H):\n",
    "    pauli = { 'I': [[1,0],[0,1]],\n",
    "              'X': [[0,1],[1,0]],\n",
    "              'Y': [[0,-1j],[1j,0]],\n",
    "              'Z': [[1,0],[0,-1]],}\n",
    "    # coeff = 1/4 * tr{ (P1 ⊗ P2) H }\n",
    "    if H.shape[0] == 4:\n",
    "        all_coeffs = { P1+P2: np.trace( np.kron(pauli[P1],pauli[P2]) @ H ).real / 4 \n",
    "                            for P1 in pauli for P2 in pauli }\n",
    "    # filter only non-zeros\n",
    "    return { PP: coeff for PP,coeff in all_coeffs.items() if abs(coeff) > 0 }\n",
    "pauli_decomp(H)"
   ]
  },
  {
   "cell_type": "code",
   "execution_count": 6,
   "metadata": {},
   "outputs": [],
   "source": [
    "# create ansatz circuit\n",
    "def ansatz(theta):\n",
    "    qc = QuantumCircuit(2)\n",
    "    # H ⊗ I\n",
    "    qc.h(0)\n",
    "    # CX\n",
    "    qc.cx(0,1)\n",
    "    # RX ⊗ I\n",
    "    qc.rx(theta,0)\n",
    "    return qc\n",
    "\n",
    "# returns a vqe circuit depending on the measurement basis\n",
    "def vqe_circuit(basis, params):\n",
    "    qc = ansatz(*params)\n",
    "    # transform to comupatational (Z) basis\n",
    "    for i,b in enumerate(basis):\n",
    "        if b == 'X':\n",
    "            qc.ry(-np.pi/2, i)\n",
    "        elif b == 'Y':\n",
    "            qc.rx(np.pi/2, i)\n",
    "    # measurement at the end\n",
    "    qc.measure_all()\n",
    "    return qc"
   ]
  },
  {
   "cell_type": "code",
   "execution_count": 7,
   "metadata": {},
   "outputs": [],
   "source": [
    "# calculate expectation of a pauli matrix\n",
    "def pauli_expect(counts, shots):\n",
    "    # if basis has even parity (e.g. |11>,|00>), sign = +1, else -1\n",
    "    sign = lambda basis: 1 if basis.count('1') % 2 == 0 else -1\n",
    "    # function to calculate actual expectations of the pauli matrix\n",
    "    return sum( sign(basis) * counts.get(basis,0) for basis in counts ) / shots\n",
    "\n",
    "# calculate expectation of a hamiltonian using VQE\n",
    "def expectation( params,\n",
    "                        backend = BasicAer.get_backend('qasm_simulator'),\n",
    "                        shots = 2**13):\n",
    "    # decompose hamiltonian into pauli matrices\n",
    "    decomposed = pauli_decomp(H)\n",
    "    # no vqe circuit needed for identity gate\n",
    "    coeff_id = decomposed.pop('I' * int(np.log2(H.shape[0])), 0)\n",
    "    \n",
    "    # execute all the circuits to get counts\n",
    "    all_qcs = [vqe_circuit(pauli_term, params) for pauli_term in decomposed]\n",
    "    job = execute(all_qcs, backend, shots = shots)\n",
    "    all_counts = job.result().get_counts()\n",
    "    # multiply by corresponding co-efficients to get module expectations\n",
    "    module_expects = [ coeff * pauli_expect(counts, shots) for counts, coeff \n",
    "                          in zip(all_counts, decomposed.values()) ]\n",
    "    return coeff_id + sum(module_expects)"
   ]
  },
  {
   "cell_type": "code",
   "execution_count": 8,
   "metadata": {},
   "outputs": [],
   "source": [
    "optimizer = COBYLA(maxiter=500, tol=1e-4)\n",
    "params = np.random.rand(1)\n",
    "ret = optimizer.optimize(len(params), expectation, initial_point=params)"
   ]
  },
  {
   "cell_type": "code",
   "execution_count": 9,
   "metadata": {},
   "outputs": [
    {
     "name": "stdout",
     "output_type": "stream",
     "text": [
      "actual min eigenvalue: -1.0000\n",
      "predicted min eigenvalue: -1.0000\n",
      "error:  0.00%\n",
      "\n",
      "actual min eigenvector: \n",
      "[[0.   +0.j]\n",
      " [0.707+0.j]\n",
      " [0.707+0.j]\n",
      " [0.   +0.j]] \n",
      "\n",
      "predicted min eigenvector: \n",
      "[[0.   +0.003j]\n",
      " [0.707+0.j   ]\n",
      " [0.707-0.j   ]\n",
      " [0.   +0.003j]] \n",
      "\n",
      "absolute inner product: 0.9999925758938519\n"
     ]
    }
   ],
   "source": [
    "pred_eigval = ret[1]\n",
    "pred_params = [ret[0].tolist()] if ret[0].shape == () else ret[0].tolist()\n",
    "ansatz_job = execute(ansatz(*pred_params), \n",
    "                BasicAer.get_backend('statevector_simulator'))\n",
    "pred_eigvect = np.array([ansatz_job.result().get_statevector()]).T\n",
    "\n",
    "np.set_printoptions(suppress=True, precision=3)\n",
    "print(f'actual min eigenvalue: {target_eigval:.4f}')\n",
    "print(f'predicted min eigenvalue: {pred_eigval:.4f}')\n",
    "print(f'error: {abs(1 - pred_eigval/target_eigval) * 100 : .2f}%\\n')\n",
    "print('actual min eigenvector: ')\n",
    "print(target_eigvect,'\\n')\n",
    "print('predicted min eigenvector: ')\n",
    "print(pred_eigvect/np.vdot(target_eigvect,pred_eigvect), '\\n')\n",
    "print(f'absolute inner product: {abs(np.vdot(target_eigvect,pred_eigvect))}')"
   ]
  }
 ],
 "metadata": {
  "kernelspec": {
   "display_name": "Python 3",
   "language": "python",
   "name": "python3"
  },
  "language_info": {
   "codemirror_mode": {
    "name": "ipython",
    "version": 3
   },
   "file_extension": ".py",
   "mimetype": "text/x-python",
   "name": "python",
   "nbconvert_exporter": "python",
   "pygments_lexer": "ipython3",
   "version": "3.7.8"
  }
 },
 "nbformat": 4,
 "nbformat_minor": 4
}
