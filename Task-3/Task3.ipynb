{
 "cells": [
  {
   "cell_type": "code",
   "execution_count": 1,
   "metadata": {},
   "outputs": [
    {
     "name": "stderr",
     "output_type": "stream",
     "text": [
      "/opt/conda/lib/python3.7/site-packages/qiskit/providers/ibmq/ibmqfactory.py:192: UserWarning: Timestamps in IBMQ backend properties, jobs, and job results are all now in local time instead of UTC.\n",
      "  warnings.warn('Timestamps in IBMQ backend properties, jobs, and job results '\n"
     ]
    }
   ],
   "source": [
    "%matplotlib inline\n",
    "# Importing standard Qiskit libraries and configuring account\n",
    "from qiskit import QuantumCircuit, execute, Aer, IBMQ\n",
    "from qiskit.compiler import transpile, assemble\n",
    "from qiskit.tools.jupyter import *\n",
    "from qiskit.visualization import *\n",
    "# Loading your IBM Q account(s)\n",
    "provider = IBMQ.load_account()"
   ]
  },
  {
   "cell_type": "code",
   "execution_count": 2,
   "metadata": {},
   "outputs": [],
   "source": [
    "import numpy as np\n",
    "from qiskit.circuit import QuantumRegister"
   ]
  },
  {
   "cell_type": "code",
   "execution_count": 3,
   "metadata": {},
   "outputs": [],
   "source": [
    "def convert(qc, gate, params, qregs, cregs = None):\n",
    "    if gate == 'id':\n",
    "        return\n",
    "    elif gate == 'h': # -iH\n",
    "        add_r_gate(qc, 'rz', np.pi/2, qregs[0])\n",
    "        add_r_gate(qc, 'rx', np.pi/2, qregs[0])\n",
    "        add_r_gate(qc, 'rz', np.pi/2, qregs[0])\n",
    "    elif gate == 'x': # -iX\n",
    "        add_r_gate(qc, 'rx', np.pi, qregs[0])\n",
    "    elif gate == 'y': # -iY\n",
    "        convert(qc, 'ry', [np.pi], qregs)\n",
    "    elif gate == 'z': # -iZ\n",
    "        add_r_gate(qc, 'rz', np.pi, qregs[0])\n",
    "    elif gate == 'rx':\n",
    "        add_r_gate(qc, 'rx', params[0], qregs[0])\n",
    "    elif gate == 'ry':\n",
    "        add_r_gate(qc, 'rz', np.pi/2, qregs[0])\n",
    "        add_r_gate(qc, 'rx', params[0], qregs[0])\n",
    "        add_r_gate(qc, 'rz', -np.pi/2, qregs[0])\n",
    "    elif gate == 'rz':\n",
    "        add_r_gate(qc, 'rz', params[0], qregs[0])\n",
    "    elif gate == 'cx':\n",
    "        convert(qc, 'h', None, [qregs[1]])\n",
    "        add_cz(qc, *qregs)\n",
    "        convert(qc, 'h', None, [qregs[1]])\n",
    "    elif gate == 'cz':\n",
    "        add_cz(qc, *qregs)\n",
    "    elif gate == 'barrier':\n",
    "        qc.barrier(*qregs) # qregs?\n",
    "    elif gate == 'measure':\n",
    "        qc.measure(qregs[0],cregs[0])"
   ]
  },
  {
   "cell_type": "code",
   "execution_count": 4,
   "metadata": {},
   "outputs": [],
   "source": [
    "# \n",
    "def find_last_prev_gate(qc, i):\n",
    "    for instr,qregs,_ in qc.data[::-1]:\n",
    "        if instr.name not in ['barrier','measure'] and qc.qubits[i] in qregs:\n",
    "            return instr\n",
    "#\n",
    "def remove_gate(qc, gate, i):\n",
    "    # search for this gate in QCData\n",
    "    for data in qc.data[::-1]:\n",
    "        if data[0] == gate:\n",
    "            # remove gate data\n",
    "            print(f'removed {gate.name} from q{i}' + \\\n",
    "                          (f' with theta = {gate.params[0]//np.pi:.2f}*pi' if len(gate.params)==1 else ''))\n",
    "            qc.data.remove(data)\n",
    "            return"
   ]
  },
  {
   "cell_type": "code",
   "execution_count": 5,
   "metadata": {},
   "outputs": [],
   "source": [
    "def add_r_gate(qc, r_gate, theta, i):\n",
    "    if prev_gate[i] is not None and prev_gate[i].name == r_gate:\n",
    "        print(f'merged {r_gate} on q{i}')\n",
    "        prev_gate[i].params[0] += theta # repetition optimization\n",
    "    else:\n",
    "        prev_gate[i] = getattr(qc, r_gate)(theta, i)[0] # keep track\n",
    "    # periodicity optimization, 2pi periodicity discarding global phase \n",
    "    if prev_gate[i] is not None and (prev_gate[i].params[0]/np.pi) % 2 < 1e-4:\n",
    "        # remove gate and set last previous gate to prev_gate\n",
    "        remove_gate(qc, prev_gate[i], i)\n",
    "        prev_gate[i] = find_last_prev_gate(qc, i)\n",
    "# add cz gate\n",
    "def add_cz(qc, i, j):\n",
    "    if prev_gate[i] is not None and prev_gate[i] is prev_gate[j]:\n",
    "        remove_gate(qc, prev_gate[i], i)\n",
    "        prev_gate[i] = find_last_prev_gate(qc, i)\n",
    "        prev_gate[j] = find_last_prev_gate(qc, j)\n",
    "    else:\n",
    "        prev_gate[i] = qc.cz(i,j)[0] # keep track\n",
    "        prev_gate[j] = prev_gate[i]  # on both qubit"
   ]
  },
  {
   "cell_type": "code",
   "execution_count": 6,
   "metadata": {},
   "outputs": [
    {
     "data": {
      "image/png": "[encoded data removed]",
      "text/plain": [
       "<Figure size 532.259x204.68 with 1 Axes>"
      ]
     },
     "execution_count": 6,
     "metadata": {},
     "output_type": "execute_result"
    }
   ],
   "source": [
    "qc_in = QuantumCircuit(2)\n",
    "qc_in.x(1)\n",
    "qc_in.h(0)\n",
    "qc_in.rz(np.pi, 0)\n",
    "qc_in.cx(1,0)\n",
    "qc_in.measure_all()\n",
    "qc_in.draw()"
   ]
  },
  {
   "cell_type": "code",
   "execution_count": 7,
   "metadata": {},
   "outputs": [
    {
     "name": "stdout",
     "output_type": "stream",
     "text": [
      "merged rz on q0\n",
      "merged rz on q0\n",
      "removed rz from q0 with theta = 2.00*pi\n",
      "merged rx on q0\n",
      "\n",
      "Overhead: (+ 4) or (x 1.571)\n"
     ]
    },
    {
     "data": {
      "image/png": "[encoded data removed]",
      "text/plain": [
       "<Figure size 742.632x204.68 with 1 Axes>"
      ]
     },
     "execution_count": 7,
     "metadata": {},
     "output_type": "execute_result"
    }
   ],
   "source": [
    "qdict = {qubit : i for i,qubit in enumerate(qc_in.qubits)}\n",
    "cdict = {clbit : i for i,clbit in enumerate(qc_in.clbits)}\n",
    "prev_gate = [None]*qc_in.num_qubits\n",
    "#\n",
    "qc_out = QuantumCircuit(qc_in.num_qubits, qc_in.num_clbits)\n",
    "for instr,qregs,cregs in qc_in.data:\n",
    "    convert(qc_out, instr.name, instr.params, \n",
    "                   [qdict[qubit] for qubit in qregs],\n",
    "                   [cdict[clbit] for clbit in cregs])\n",
    "print(f'\\nOverhead: (+ {len(qc_out.data) - len(qc_in.data)}) or (x {len(qc_out.data) / len(qc_in.data):.3f})')\n",
    "qc_out.draw()"
   ]
  },
  {
   "cell_type": "code",
   "execution_count": 8,
   "metadata": {},
   "outputs": [
    {
     "data": {
      "image/png": "[encoded data removed]",
      "text/plain": [
       "<Figure size 923.232x204.68 with 1 Axes>"
      ]
     },
     "execution_count": 8,
     "metadata": {},
     "output_type": "execute_result"
    }
   ],
   "source": [
    "# comparison with transpiler\n",
    "transpile(qc_out, basis_gates=['cz','rx','rz'], optimization_level=3).draw()"
   ]
  }
 ],
 "metadata": {
  "kernelspec": {
   "display_name": "Python 3",
   "language": "python",
   "name": "python3"
  },
  "language_info": {
   "codemirror_mode": {
    "name": "ipython",
    "version": 3
   },
   "file_extension": ".py",
   "mimetype": "text/x-python",
   "name": "python",
   "nbconvert_exporter": "python",
   "pygments_lexer": "ipython3",
   "version": "3.7.8"
  }
 },
 "nbformat": 4,
 "nbformat_minor": 4
}
